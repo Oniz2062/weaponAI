import tensorflow as tf
from tensorflow.keras.preprocessing.image import ImageDataGenerator
from tensorflow.keras.layers import Conv2D, MaxPooling2D, Flatten, Dense
from tensorflow.keras.models import Sequential
from tensorflow.keras.preprocessing.image import load_img, img_to_array
import numpy as np

# Создание модели
model = Sequential()
model.add(Conv2D(32, (3, 3), activation='relu', input_shape=(224, 224, 3)))
model.add(MaxPooling2D((2, 2)))
model.add(Conv2D(64, (3, 3), activation='relu'))
model.add(MaxPooling2D((2, 2)))
model.add(Conv2D(128, (3, 3), activation='relu'))
model.add(MaxPooling2D((2, 2)))
model.add(Flatten())
model.add(Dense(128, activation='relu'))
model.add(Dense(1, activation='sigmoid'))

# Компиляция модели
model.compile(optimizer='adam', loss='binary_crossentropy', metrics=['accuracy'])

# Загрузка и предобработка изображений для обучения
train_datagen = ImageDataGenerator(rescale=1./255)
train_data = train_datagen.flow_from_directory('/path/to/train_data_directory', target_size=(224, 224), batch_size=32, class_mode='binary')

# Обучение модели
model.fit(train_data, epochs=10)

# Сохранение модели
model.save('weapon_detection_model.h5')

# Загрузка модели
model = tf.keras.models.load_model('weapon_detection_model.h5')

# Загрузка изображения
image_path = '/path/to/image.jpg'
image = load_img(image_path, target_size=(224, 224))
image_array = img_to_array(image)
image_array = np.expand_dims(image_array, axis=0)
image_array /= 255.0

# Предсказание
prediction = model.predict(image_array)
class_index = int(prediction[0][0])

# Вывод результата
if class_index == 0:
    print('На изображении нет оружия')
else:
    print('На изображении есть оружие')
