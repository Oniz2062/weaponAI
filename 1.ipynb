import numpy as np
import tensorflow as tf
from tensorflow import keras
from keras.models import Sequential
from keras.layers import Dense, Flatten, Dropout
from keras.layers import Conv2D, MaxPooling2D
import matplotlib.pyplot as plt
import random
from PIL import Image
import os
import shutil
from pathlib import Path

model = keras.Sequential([
    Conv2D(32, (3, 3), activation='relu', input_shape=(150, 150, 3)),
    MaxPooling2D(2, 2),
    Conv2D(64, (3, 3), activation='relu'),
    MaxPooling2D(2, 2),
    Conv2D(128, (3, 3), activation='relu'),
    MaxPooling2D(2, 2),
    Flatten(),
    Dense(128, activation='relu'),
    Dense(1, activation='sigmoid')  # Двоичная классификация: оружие или нет
])
image_files = []
folder_with_randweapons = '/content/drive/MyDrive/dataset/randweapons'
if os.path.exists(folder_with_randweapons):
  shutil.rmtree(folder_with_randweapons)
os.mkdir(folder_with_randweapons)
os.mkdir('/content/drive/MyDrive/dataset/randweapons/weapons')
for root, dirs, files in os.walk('/content/drive/MyDrive/dataset/weapons_for_training/weapon'):
    for file in files:
        if file.endswith(".jpg") or file.endswith(".png"):
            image_files.append(os.path.join(root, file))
lenght=len(image_files)
random_images = random.sample(image_files, lenght)

for image_path in random_images:
    image = Image.open(image_path)
    image.save(os.path.join('/content/drive/MyDrive/dataset/randweapons/weapons', os.path.basename(image_path)))
model.compile(optimizer='adam', loss='binary_crossentropy', metrics=['accuracy'])

# Загрузка данных (предполагается, что у вас есть обучающий и тестовый наборы данных)
train_data = keras.preprocessing.image.ImageDataGenerator(rescale=1.0/255.0)
test_data = keras.preprocessing.image.ImageDataGenerator(rescale=1.0/255.0)

train_generator =train_data.flow_from_directory('/content/drive/MyDrive/dataset/weapons_for_training',
                                                target_size=(150, 150),
                                                batch_size=32,
                                                class_mode='binary')

test_generator =test_data.flow_from_directory('/content/drive/MyDrive/dataset/randweapons',
                                              target_size=(150, 150),
                                              batch_size=32,
                                              class_mode='binary')
# Обучение модели
model.fit(train_generator, epochs=1, validation_data=test_generator)
# Сохранение модели
model.save('model_weapons.h5')
model = keras.models.load_model('/content/model_weapons.h5')
image = Image.open('/content/0bd1cce5c59b8d2ac79a613bc71209e2.jpg')
image = image.resize((150, 150))
image = image.convert('RGB')
image_array = keras.preprocessing.image.img_to_array(image)
image_array = image_array / 255.0
image_array = np.expand_dims(image_array, axis=0)
predictions = model.predict(image_array)
class_index = np.argmax(predictions[0])
class_label = train_generator.class_indices[class_index]
